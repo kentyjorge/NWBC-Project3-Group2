{
 "cells": [
  {
   "cell_type": "code",
   "execution_count": 17,
   "id": "eeb0daac-e949-4c61-b828-2ec4724da561",
   "metadata": {},
   "outputs": [],
   "source": [
    "import pandas as pd\n",
    "import requests\n",
    "from config import api_key\n",
    "from pprint import pprint"
   ]
  },
  {
   "cell_type": "code",
   "execution_count": 19,
   "id": "418501c0-28cf-4c22-b584-bad0ce4306c5",
   "metadata": {},
   "outputs": [],
   "source": [
    "url = f\"https://{api_key}@developer.nps.gov/api/v1/webcams\"\n",
    "params = {\n",
    "    \"api_key\": api_key,\n",
    "    \"limit\": 1000\n",
    "}"
   ]
  },
  {
   "cell_type": "code",
   "execution_count": 50,
   "id": "5e588cdf-f623-40b3-ad3d-81398e936279",
   "metadata": {},
   "outputs": [],
   "source": [
    "response = requests.get(url, params).json()"
   ]
  },
  {
   "cell_type": "code",
   "execution_count": 43,
   "id": "b8495daa-fcfb-4e8c-b2ae-56b76a9d245e",
   "metadata": {},
   "outputs": [
    {
     "data": {
      "text/plain": [
       "{'id': 'BFDCA85A-4B26-4FB2-8A9D-BC6AD032C87F',\n",
       " 'url': 'https://www.nps.gov/media/webcam/view.htm?id=81B46A88-1DD8-B71B-0B167518C73343F3',\n",
       " 'title': 'Spruce Tree House',\n",
       " 'description': \"View of the cliff dwelling, Spruce Tree House, from the back porch of the Chief Ranger's Office. Spruce Tree House is one of the best preserved cliff dwellings in the park. Most of the walls, wood, and plaster are original. Archeologists have identified at least 120 rooms and eight kivas, making this the third largest cliff dwelling in the park. By the late 1270s, up to 19 households (60 to 80 people) lived here.\",\n",
       " 'images': [{'url': 'https://www.nps.gov/common/uploads/cropped_image/B6C6A046-F735-7C82-87ECCD7872E878CB.jpg',\n",
       "   'credit': 'NPS Photo',\n",
       "   'altText': 'Large, ancient stone-masonry village tucked inside a cliff alcove.',\n",
       "   'title': 'Spruce Tree House Webcam',\n",
       "   'description': '',\n",
       "   'caption': 'View of Spruce Tree House from webcam',\n",
       "   'crops': [{'aspectRatio': 1.78,\n",
       "     'url': 'https://www.nps.gov/common/uploads/cropped_image/primary/B6C6A046-F735-7C82-87ECCD7872E878CB.jpg'},\n",
       "    {'aspectRatio': 1.33,\n",
       "     'url': 'https://www.nps.gov/common/uploads/cropped_image/secondary/B6C6A046-F735-7C82-87ECCD7872E878CB.jpg'}]}],\n",
       " 'relatedParks': [{'states': 'CO',\n",
       "   'parkCode': 'meve',\n",
       "   'designation': 'National Park',\n",
       "   'fullName': 'Mesa Verde National Park',\n",
       "   'url': 'https://www.nps.gov/meve/index.htm',\n",
       "   'name': 'Mesa Verde'}],\n",
       " 'status': 'Inactive',\n",
       " 'statusMessage': '',\n",
       " 'isStreaming': False,\n",
       " 'tags': ['cliff dwelling'],\n",
       " 'latitude': 37.33171844482422,\n",
       " 'longitude': -108.41557312011719,\n",
       " 'geometryPoiId': ''}"
      ]
     },
     "execution_count": 43,
     "metadata": {},
     "output_type": "execute_result"
    }
   ],
   "source": [
    "webcams = response['data']\n",
    "webcams[0]"
   ]
  },
  {
   "cell_type": "code",
   "execution_count": 44,
   "id": "357d277a-331b-4a5a-b1af-ef995a96b1f5",
   "metadata": {},
   "outputs": [
    {
     "name": "stdout",
     "output_type": "stream",
     "text": [
      "Info Incomplete\n",
      "Info Incomplete\n",
      "Info Incomplete\n",
      "Info Incomplete\n",
      "Info Incomplete\n",
      "Info Incomplete\n",
      "Info Incomplete\n",
      "Info Incomplete\n",
      "Info Incomplete\n",
      "Info Incomplete\n",
      "Info Incomplete\n",
      "Info Incomplete\n",
      "Info Incomplete\n",
      "Info Incomplete\n",
      "Info Incomplete\n",
      "Info Incomplete\n",
      "Info Incomplete\n",
      "Info Incomplete\n",
      "Info Incomplete\n",
      "Info Incomplete\n",
      "Info Incomplete\n",
      "Info Incomplete\n",
      "Info Incomplete\n",
      "Info Incomplete\n",
      "Info Incomplete\n"
     ]
    }
   ],
   "source": [
    "webcam_data = []\n",
    "for cam in webcams:\n",
    "    cam_data = {}\n",
    "    try:\n",
    "        cam_data['Park'] = cam['relatedParks'][0]['fullName']\n",
    "        cam_data['Park Code'] = cam['relatedParks'][0]['parkCode']\n",
    "        cam_data['Park Type'] = cam['relatedParks'][0]['designation']\n",
    "        cam_data['Coord'] = [round(cam['latitude'], 4), round(cam['longitude'], 4)]\n",
    "        cam_data['Is Streaming?'] = cam['status']\n",
    "        cam_data['Webcam URL'] = cam['url']\n",
    "        cam_data['Images'] = cam['images']\n",
    "        cam_data['Info'] = cam['description']\n",
    "        webcam_data.append(cam_data)\n",
    "    except:\n",
    "        print(\"Info Incomplete\")"
   ]
  },
  {
   "cell_type": "code",
   "execution_count": 45,
   "id": "4701f7c8-e822-4811-8005-aac881348391",
   "metadata": {},
   "outputs": [
    {
     "data": {
      "text/html": [
       "<div>\n",
       "<style scoped>\n",
       "    .dataframe tbody tr th:only-of-type {\n",
       "        vertical-align: middle;\n",
       "    }\n",
       "\n",
       "    .dataframe tbody tr th {\n",
       "        vertical-align: top;\n",
       "    }\n",
       "\n",
       "    .dataframe thead th {\n",
       "        text-align: right;\n",
       "    }\n",
       "</style>\n",
       "<table border=\"1\" class=\"dataframe\">\n",
       "  <thead>\n",
       "    <tr style=\"text-align: right;\">\n",
       "      <th></th>\n",
       "      <th>Park</th>\n",
       "      <th>Park Code</th>\n",
       "      <th>Park Type</th>\n",
       "      <th>Coord</th>\n",
       "      <th>Is Streaming?</th>\n",
       "      <th>Webcam URL</th>\n",
       "      <th>Images</th>\n",
       "      <th>Info</th>\n",
       "    </tr>\n",
       "  </thead>\n",
       "  <tbody>\n",
       "    <tr>\n",
       "      <th>0</th>\n",
       "      <td>Mesa Verde National Park</td>\n",
       "      <td>meve</td>\n",
       "      <td>National Park</td>\n",
       "      <td>[37.3317, -108.4156]</td>\n",
       "      <td>Inactive</td>\n",
       "      <td>https://www.nps.gov/media/webcam/view.htm?id=8...</td>\n",
       "      <td>[{'url': 'https://www.nps.gov/common/uploads/c...</td>\n",
       "      <td>View of the cliff dwelling, Spruce Tree House,...</td>\n",
       "    </tr>\n",
       "    <tr>\n",
       "      <th>1</th>\n",
       "      <td>Florissant Fossil Beds National Monument</td>\n",
       "      <td>flfo</td>\n",
       "      <td>National Monument</td>\n",
       "      <td>[38.9129, -105.281]</td>\n",
       "      <td>Inactive</td>\n",
       "      <td>https://www.nps.gov/media/webcam/view.htm?id=8...</td>\n",
       "      <td>[]</td>\n",
       "      <td>Update Fall 2021. The webcam has been experien...</td>\n",
       "    </tr>\n",
       "    <tr>\n",
       "      <th>2</th>\n",
       "      <td>Fort Smith National Historic Site</td>\n",
       "      <td>fosm</td>\n",
       "      <td>National Historic Site</td>\n",
       "      <td>[35.3873, -94.4294]</td>\n",
       "      <td>Inactive</td>\n",
       "      <td>https://www.nps.gov/media/webcam/view.htm?id=8...</td>\n",
       "      <td>[]</td>\n",
       "      <td>View of parade ground with flag pole in center...</td>\n",
       "    </tr>\n",
       "    <tr>\n",
       "      <th>3</th>\n",
       "      <td>Fort Smith National Historic Site</td>\n",
       "      <td>fosm</td>\n",
       "      <td>National Historic Site</td>\n",
       "      <td>[-27.4918, 151.7637]</td>\n",
       "      <td>Inactive</td>\n",
       "      <td>https://www.nps.gov/media/webcam/view.htm?id=8...</td>\n",
       "      <td>[]</td>\n",
       "      <td>The blockhouse foundation is in the foreground...</td>\n",
       "    </tr>\n",
       "    <tr>\n",
       "      <th>4</th>\n",
       "      <td>Acadia National Park</td>\n",
       "      <td>acad</td>\n",
       "      <td>National Park</td>\n",
       "      <td>[44.3385, -68.1832]</td>\n",
       "      <td>Inactive</td>\n",
       "      <td>https://www.nps.gov/media/webcam/view.htm?id=3...</td>\n",
       "      <td>[]</td>\n",
       "      <td>Current Location: \"Virtual Tide Watch\" at a la...</td>\n",
       "    </tr>\n",
       "  </tbody>\n",
       "</table>\n",
       "</div>"
      ],
      "text/plain": [
       "                                       Park Park Code               Park Type  \\\n",
       "0                  Mesa Verde National Park      meve           National Park   \n",
       "1  Florissant Fossil Beds National Monument      flfo       National Monument   \n",
       "2         Fort Smith National Historic Site      fosm  National Historic Site   \n",
       "3         Fort Smith National Historic Site      fosm  National Historic Site   \n",
       "4                      Acadia National Park      acad           National Park   \n",
       "\n",
       "                  Coord Is Streaming?  \\\n",
       "0  [37.3317, -108.4156]      Inactive   \n",
       "1   [38.9129, -105.281]      Inactive   \n",
       "2   [35.3873, -94.4294]      Inactive   \n",
       "3  [-27.4918, 151.7637]      Inactive   \n",
       "4   [44.3385, -68.1832]      Inactive   \n",
       "\n",
       "                                          Webcam URL  \\\n",
       "0  https://www.nps.gov/media/webcam/view.htm?id=8...   \n",
       "1  https://www.nps.gov/media/webcam/view.htm?id=8...   \n",
       "2  https://www.nps.gov/media/webcam/view.htm?id=8...   \n",
       "3  https://www.nps.gov/media/webcam/view.htm?id=8...   \n",
       "4  https://www.nps.gov/media/webcam/view.htm?id=3...   \n",
       "\n",
       "                                              Images  \\\n",
       "0  [{'url': 'https://www.nps.gov/common/uploads/c...   \n",
       "1                                                 []   \n",
       "2                                                 []   \n",
       "3                                                 []   \n",
       "4                                                 []   \n",
       "\n",
       "                                                Info  \n",
       "0  View of the cliff dwelling, Spruce Tree House,...  \n",
       "1  Update Fall 2021. The webcam has been experien...  \n",
       "2  View of parade ground with flag pole in center...  \n",
       "3  The blockhouse foundation is in the foreground...  \n",
       "4  Current Location: \"Virtual Tide Watch\" at a la...  "
      ]
     },
     "execution_count": 45,
     "metadata": {},
     "output_type": "execute_result"
    }
   ],
   "source": [
    "webcams_df = pd.DataFrame(webcam_data)\n",
    "webcams_df.head()"
   ]
  },
  {
   "cell_type": "code",
   "execution_count": 32,
   "id": "b0dcc4f9-17ed-4547-9eb3-f6565c8cd127",
   "metadata": {},
   "outputs": [
    {
     "data": {
      "text/plain": [
       "169"
      ]
     },
     "execution_count": 32,
     "metadata": {},
     "output_type": "execute_result"
    }
   ],
   "source": [
    "len(webcams_df)"
   ]
  },
  {
   "cell_type": "code",
   "execution_count": 46,
   "id": "e1bc86b9-e7b9-4452-8833-bc11d1ee4de5",
   "metadata": {},
   "outputs": [
    {
     "data": {
      "text/plain": [
       "136"
      ]
     },
     "execution_count": 46,
     "metadata": {},
     "output_type": "execute_result"
    }
   ],
   "source": [
    "active = webcams_df.loc[webcams_df['Is Streaming?'] == \"Active\", :]"
   ]
  },
  {
   "cell_type": "code",
   "execution_count": 52,
   "id": "459ad42e-dd08-4404-a631-c0ddcba71997",
   "metadata": {},
   "outputs": [],
   "source": [
    "webcams_df.to_csv('webcams_data.csv')"
   ]
  }
 ],
 "metadata": {
  "kernelspec": {
   "display_name": "Python 3 (ipykernel)",
   "language": "python",
   "name": "python3"
  },
  "language_info": {
   "codemirror_mode": {
    "name": "ipython",
    "version": 3
   },
   "file_extension": ".py",
   "mimetype": "text/x-python",
   "name": "python",
   "nbconvert_exporter": "python",
   "pygments_lexer": "ipython3",
   "version": "3.8.5"
  }
 },
 "nbformat": 4,
 "nbformat_minor": 5
}
